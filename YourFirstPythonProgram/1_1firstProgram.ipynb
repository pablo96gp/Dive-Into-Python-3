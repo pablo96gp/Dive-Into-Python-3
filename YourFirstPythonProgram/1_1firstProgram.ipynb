{
  "nbformat": 4,
  "nbformat_minor": 0,
  "metadata": {
    "colab": {
      "name": "1.1firstProgram.ipynb",
      "provenance": [],
      "collapsed_sections": [],
      "authorship_tag": "ABX9TyPDx+kHUgdsdpljVqG6ITx5",
      "include_colab_link": true
    },
    "kernelspec": {
      "name": "python3",
      "display_name": "Python 3"
    }
  },
  "cells": [
    {
      "cell_type": "markdown",
      "metadata": {
        "id": "view-in-github",
        "colab_type": "text"
      },
      "source": [
        "<a href=\"https://colab.research.google.com/github/pablo96gp/Dive-Into-Python-3/blob/main/YourFirstPythonProgram/1_1firstProgram.ipynb\" target=\"_parent\"><img src=\"https://colab.research.google.com/assets/colab-badge.svg\" alt=\"Open In Colab\"/></a>"
      ]
    },
    {
      "cell_type": "code",
      "metadata": {
        "colab": {
          "base_uri": "https://localhost:8080/"
        },
        "id": "-T-B70Xpb48Y",
        "outputId": "942edc96-2690-486c-8ae6-f7bbc803f99b"
      },
      "source": [
        "SUFFIXES = {1000: ['KB', 'MB', 'GB', 'TB', 'PB', 'EB', 'ZB', 'YB'],\r\n",
        "            1024: ['KiB', 'MiB', 'GiB', 'TiB', 'PiB', 'EiB', 'ZiB', 'YiB']}\r\n",
        "\r\n",
        "def approximate_size(size, a_kilobyte_is_1024_bytes=True):\r\n",
        "    '''Convert a file size to human-readable form.\r\n",
        "\r\n",
        "    Keyword arguments:\r\n",
        "    size -- file size in bytes\r\n",
        "    a_kilobyte_is_1024_bytes -- if True (default), use multiples of 1024\r\n",
        "                                if False, use multiples of 1000\r\n",
        "\r\n",
        "    Returns: string\r\n",
        "\r\n",
        "    '''\r\n",
        "    if size < 0:\r\n",
        "        raise ValueError('number must be non-negative')\r\n",
        "\r\n",
        "    multiple = 1024 if a_kilobyte_is_1024_bytes else 1000\r\n",
        "    for suffix in SUFFIXES[multiple]:\r\n",
        "        size /= multiple\r\n",
        "        if size < multiple:\r\n",
        "            return '{0:.1f} {1}'.format(size, suffix)\r\n",
        "\r\n",
        "    raise ValueError('number too large')\r\n",
        "\r\n",
        "if __name__ == '__main__':\r\n",
        "    print(approximate_size(1000000000000, False))\r\n",
        "    print(approximate_size(1000000000000))"
      ],
      "execution_count": null,
      "outputs": [
        {
          "output_type": "stream",
          "text": [
            "1.0 TB\n",
            "931.3 GiB\n"
          ],
          "name": "stdout"
        }
      ]
    }
  ]
}