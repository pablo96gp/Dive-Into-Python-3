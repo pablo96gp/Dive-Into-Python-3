{
  "nbformat": 4,
  "nbformat_minor": 0,
  "metadata": {
    "colab": {
      "name": "1.1firstProgram.ipynb",
      "provenance": [],
      "collapsed_sections": [],
      "authorship_tag": "ABX9TyPBOzLBgmREH74UK3ap8mbr",
      "include_colab_link": true
    },
    "kernelspec": {
      "name": "python3",
      "display_name": "Python 3"
    }
  },
  "cells": [
    {
      "cell_type": "markdown",
      "metadata": {
        "id": "view-in-github",
        "colab_type": "text"
      },
      "source": [
        "<a href=\"https://colab.research.google.com/github/pablo96gp/Dive-Into-Python-3/blob/main/YourFirstPythonProgram/1_1firstProgram.ipynb\" target=\"_parent\"><img src=\"https://colab.research.google.com/assets/colab-badge.svg\" alt=\"Open In Colab\"/></a>"
      ]
    },
    {
      "cell_type": "code",
      "metadata": {
        "colab": {
          "base_uri": "https://localhost:8080/",
          "height": 0
        },
        "id": "-T-B70Xpb48Y",
        "outputId": "f6dcd9e3-ef27-4896-bb93-e48e3c361e1d"
      },
      "source": [
        "SUFFIXES = {1000: ['KB', 'MB', 'GB', 'TB', 'PB', 'EB', 'ZB', 'YB'],\r\n",
        "            1024: ['KiB', 'MiB', 'GiB', 'TiB', 'PiB', 'EiB', 'ZiB', 'YiB']}\r\n",
        "\r\n",
        "def approximate_size(size, a_kilobyte_is_1024_bytes=True):\r\n",
        "    '''Convert a file size to human-readable form.\r\n",
        "\r\n",
        "    Keyword arguments:\r\n",
        "    size -- file size in bytes\r\n",
        "    a_kilobyte_is_1024_bytes -- if True (default), use multiples of 1024\r\n",
        "                                if False, use multiples of 1000\r\n",
        "\r\n",
        "    Returns: string\r\n",
        "\r\n",
        "    '''\r\n",
        "    if size < 0:\r\n",
        "        raise ValueError('number must be non-negative')\r\n",
        "\r\n",
        "    multiple = 1024 if a_kilobyte_is_1024_bytes else 1000\r\n",
        "    for suffix in SUFFIXES[multiple]:\r\n",
        "        size /= multiple\r\n",
        "        if size < multiple:\r\n",
        "            return '{0:.1f} {1}'.format(size, suffix)\r\n",
        "\r\n",
        "    raise ValueError('number too large')\r\n",
        "\r\n",
        "if __name__ == '__main__':\r\n",
        "    print(approximate_size(1000000000000, False))\r\n",
        "    print(approximate_size(1000000000000)) #doesn´t need second argument!"
      ],
      "execution_count": 1,
      "outputs": [
        {
          "output_type": "stream",
          "text": [
            "1.0 TB\n",
            "931.3 GiB\n"
          ],
          "name": "stdout"
        }
      ]
    },
    {
      "cell_type": "code",
      "metadata": {
        "colab": {
          "base_uri": "https://localhost:8080/",
          "height": 0
        },
        "id": "_BajJpCtm52X",
        "outputId": "4d9a2bea-3bdf-4a31-c92e-0d31f1b868be"
      },
      "source": [
        "import sys\r\n",
        "sys.path"
      ],
      "execution_count": 2,
      "outputs": [
        {
          "output_type": "execute_result",
          "data": {
            "text/plain": [
              "['',\n",
              " '/env/python',\n",
              " '/usr/lib/python36.zip',\n",
              " '/usr/lib/python3.6',\n",
              " '/usr/lib/python3.6/lib-dynload',\n",
              " '/usr/local/lib/python3.6/dist-packages',\n",
              " '/usr/lib/python3/dist-packages',\n",
              " '/usr/local/lib/python3.6/dist-packages/IPython/extensions',\n",
              " '/root/.ipython']"
            ]
          },
          "metadata": {
            "tags": []
          },
          "execution_count": 2
        }
      ]
    },
    {
      "cell_type": "code",
      "metadata": {
        "colab": {
          "base_uri": "https://localhost:8080/",
          "height": 0
        },
        "id": "so587bzZoDKd",
        "outputId": "e8c56623-8ac1-4a5c-c0ba-0dca9e4d88cc"
      },
      "source": [
        "!pip install humansize"
      ],
      "execution_count": 3,
      "outputs": [
        {
          "output_type": "stream",
          "text": [
            "Requirement already satisfied: humansize in /usr/local/lib/python3.6/dist-packages (1.0)\n"
          ],
          "name": "stdout"
        }
      ]
    },
    {
      "cell_type": "code",
      "metadata": {
        "colab": {
          "base_uri": "https://localhost:8080/",
          "height": 364
        },
        "id": "DAZVVDpvprRA",
        "outputId": "2dc26b5d-861e-4651-bb45-5c7049dec800"
      },
      "source": [
        "!pip install humansize\r\n",
        "import humansize\r\n",
        "\r\n"
      ],
      "execution_count": 5,
      "outputs": [
        {
          "output_type": "stream",
          "text": [
            "Requirement already satisfied: humansize in /usr/local/lib/python3.6/dist-packages (1.0)\n"
          ],
          "name": "stdout"
        },
        {
          "output_type": "error",
          "ename": "ModuleNotFoundError",
          "evalue": "ignored",
          "traceback": [
            "\u001b[0;31m---------------------------------------------------------------------------\u001b[0m",
            "\u001b[0;31mModuleNotFoundError\u001b[0m                       Traceback (most recent call last)",
            "\u001b[0;32m<ipython-input-5-4d1786cb9bb1>\u001b[0m in \u001b[0;36m<module>\u001b[0;34m()\u001b[0m\n\u001b[1;32m      1\u001b[0m \u001b[0mget_ipython\u001b[0m\u001b[0;34m(\u001b[0m\u001b[0;34m)\u001b[0m\u001b[0;34m.\u001b[0m\u001b[0msystem\u001b[0m\u001b[0;34m(\u001b[0m\u001b[0;34m'pip install humansize'\u001b[0m\u001b[0;34m)\u001b[0m\u001b[0;34m\u001b[0m\u001b[0;34m\u001b[0m\u001b[0m\n\u001b[0;32m----> 2\u001b[0;31m \u001b[0;32mimport\u001b[0m \u001b[0mhumansize\u001b[0m\u001b[0;34m\u001b[0m\u001b[0;34m\u001b[0m\u001b[0m\n\u001b[0m\u001b[1;32m      3\u001b[0m \u001b[0;34m\u001b[0m\u001b[0m\n",
            "\u001b[0;31mModuleNotFoundError\u001b[0m: No module named 'humansize'",
            "",
            "\u001b[0;31m---------------------------------------------------------------------------\u001b[0;32m\nNOTE: If your import is failing due to a missing package, you can\nmanually install dependencies using either !pip or !apt.\n\nTo view examples of installing some common dependencies, click the\n\"Open Examples\" button below.\n\u001b[0;31m---------------------------------------------------------------------------\u001b[0m\n"
          ]
        }
      ]
    },
    {
      "cell_type": "code",
      "metadata": {
        "id": "u0fv6zCurXcJ"
      },
      "source": [
        "try:\r\n",
        "  import humansize\r\n",
        "except ImportError:\r\n",
        "  humansize = None"
      ],
      "execution_count": 8,
      "outputs": []
    },
    {
      "cell_type": "code",
      "metadata": {
        "colab": {
          "base_uri": "https://localhost:8080/",
          "height": 0
        },
        "id": "w8xpGMrVrdqz",
        "outputId": "04c0a3da-c09f-4c65-fa46-74548d491990"
      },
      "source": [
        "if humansize:\r\n",
        "  print(\"ok\")\r\n",
        "else:\r\n",
        "  print(\"NOT ok\")\r\n"
      ],
      "execution_count": 10,
      "outputs": [
        {
          "output_type": "stream",
          "text": [
            "NOT ok\n"
          ],
          "name": "stdout"
        }
      ]
    }
  ]
}